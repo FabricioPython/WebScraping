{
 "cells": [
  {
   "cell_type": "code",
   "execution_count": 2,
   "id": "fdefa6cb-e323-4f33-ab71-2a4720263f71",
   "metadata": {},
   "outputs": [],
   "source": [
    "from parsel import Selector\n",
    "from tqdm import tqdm\n",
    "import pandas as pd"
   ]
  },
  {
   "cell_type": "code",
   "execution_count": 13,
   "id": "a21e071b-4136-4945-9f88-79ea224ba9a3",
   "metadata": {},
   "outputs": [],
   "source": [
    "arquivo = open('pagina_de_livro25.txt', 'r', encoding=\"utf-8\")"
   ]
  },
  {
   "cell_type": "code",
   "execution_count": 14,
   "id": "cdd452d4-acbc-42a2-b0ee-97e8266fd98a",
   "metadata": {},
   "outputs": [],
   "source": [
    "html = arquivo.read()"
   ]
  },
  {
   "cell_type": "code",
   "execution_count": 15,
   "id": "25a5fccc-1c6d-4737-b4e4-b25bed63b31a",
   "metadata": {},
   "outputs": [
    {
     "data": {
      "text/plain": [
       "str"
      ]
     },
     "execution_count": 15,
     "metadata": {},
     "output_type": "execute_result"
    }
   ],
   "source": [
    "type(html)"
   ]
  },
  {
   "cell_type": "code",
   "execution_count": 16,
   "id": "db4a8f87-6e83-44c7-a021-af418b49b575",
   "metadata": {},
   "outputs": [],
   "source": [
    "pagina = Selector(text=html)"
   ]
  },
  {
   "cell_type": "markdown",
   "id": "d7a36988-53d1-44b3-9ff2-c8f5a7895220",
   "metadata": {},
   "source": [
    "### Titulos:"
   ]
  },
  {
   "cell_type": "code",
   "execution_count": 17,
   "id": "de22cad1-e4c0-41cb-846b-d6574be0a248",
   "metadata": {},
   "outputs": [
    {
     "data": {
      "text/plain": [
       "'Reconhecimento de Padrões: um Estudo Dirigido'"
      ]
     },
     "execution_count": 17,
     "metadata": {},
     "output_type": "execute_result"
    }
   ],
   "source": [
    "pagina.xpath('//span[@id=\"productTitle\"]/text()').get().strip()"
   ]
  },
  {
   "cell_type": "markdown",
   "id": "becdd24e-56be-46d1-a621-6dd6338821d8",
   "metadata": {},
   "source": [
    "#### Autores:"
   ]
  },
  {
   "cell_type": "code",
   "execution_count": 18,
   "id": "dd347a78-a4fe-472d-9fa2-06d101cfdb59",
   "metadata": {},
   "outputs": [
    {
     "data": {
      "text/plain": [
       "['Rogério Galante Negri']"
      ]
     },
     "execution_count": 18,
     "metadata": {},
     "output_type": "execute_result"
    }
   ],
   "source": [
    "pagina.xpath('//span[@class=\"author notFaded\"]/a/text()').getall()"
   ]
  },
  {
   "cell_type": "markdown",
   "id": "64fe037e-ea21-46bd-bdab-763a57cfc1c2",
   "metadata": {},
   "source": [
    "#### Ano ou tipo:"
   ]
  },
  {
   "cell_type": "code",
   "execution_count": 22,
   "id": "541381c2-a671-459e-b9f0-9ba01cb36045",
   "metadata": {},
   "outputs": [
    {
     "data": {
      "text/plain": [
       "'Capa comum'"
      ]
     },
     "execution_count": 22,
     "metadata": {},
     "output_type": "execute_result"
    }
   ],
   "source": [
    "pagina.xpath('//span[@id=\"productSubtitle\"]/text()').getall()[0].strip()[:11].strip()"
   ]
  },
  {
   "cell_type": "markdown",
   "id": "49bb6f2a-0cdf-4dba-b9bb-5953fcaaac9b",
   "metadata": {},
   "source": [
    "#### Avaliação:"
   ]
  },
  {
   "cell_type": "code",
   "execution_count": 23,
   "id": "4e8dbfbc-7225-4155-adcc-8fb015567e73",
   "metadata": {},
   "outputs": [
    {
     "data": {
      "text/plain": [
       "' 4,7 '"
      ]
     },
     "execution_count": 23,
     "metadata": {},
     "output_type": "execute_result"
    }
   ],
   "source": [
    "pagina.xpath('//a[@class=\"a-popover-trigger a-declarative\"]/span[@class=\"a-size-base a-color-base\"]/text()').get()\n"
   ]
  },
  {
   "cell_type": "markdown",
   "id": "e4ffdc49-b740-4b07-9f21-921466079dc8",
   "metadata": {},
   "source": [
    "#### Total avaliação:"
   ]
  },
  {
   "cell_type": "code",
   "execution_count": 24,
   "id": "4f2e11e1-86a1-4db2-b196-e2d22fae17f5",
   "metadata": {},
   "outputs": [
    {
     "data": {
      "text/plain": [
       "'74 avaliações de clientes'"
      ]
     },
     "execution_count": 24,
     "metadata": {},
     "output_type": "execute_result"
    }
   ],
   "source": [
    "pagina.xpath('//span[@id=\"acrCustomerReviewText\"]/text()').get()"
   ]
  },
  {
   "cell_type": "markdown",
   "id": "390b1db2-fc8a-4cd7-be46-c0e5e87a1179",
   "metadata": {},
   "source": [
    "#### Descrição:"
   ]
  },
  {
   "cell_type": "code",
   "execution_count": 25,
   "id": "13e97afd-d920-4a92-a9c5-eb8714dda037",
   "metadata": {},
   "outputs": [],
   "source": [
    "def descricao(valor):\n",
    "    \"\"\"Apos pegar um conjunto de dados \n",
    "    possives de rotular ele retorna um dicionário - Para carrocel de dados\"\"\"\n",
    "    aux = pagina.xpath('//ol[@class=\"a-carousel\"]//li[@class=\"a-carousel-card rpi-carousel-attribute-card\"]//span/text()').getall()\n",
    "    descricao = {}\n",
    "    for index, i in enumerate(aux):\n",
    "        if index % 2 == 0:\n",
    "            descricao[i] = aux[index+1]\n",
    "    if valor in descricao.keys():\n",
    "        return descricao[valor]\n",
    "    elif \"dict\" in valor:\n",
    "        return descricao\n",
    "    else:\n",
    "        return \"vazio\""
   ]
  },
  {
   "cell_type": "code",
   "execution_count": 26,
   "id": "7144b059-6280-495d-b74e-25ffbb9dce94",
   "metadata": {},
   "outputs": [
    {
     "data": {
      "text/plain": [
       "{'ISBN-10': '6555061634',\n",
       " 'ISBN-13': '978-6555061635',\n",
       " 'Edição': '1ª',\n",
       " 'Editora': 'Blucher',\n",
       " 'Data da publicação': '9 dezembro 2021',\n",
       " 'Idioma': 'Português',\n",
       " 'Dimensões': '17 x 1 x 24 cm',\n",
       " 'Número de páginas': '276 páginas'}"
      ]
     },
     "execution_count": 26,
     "metadata": {},
     "output_type": "execute_result"
    }
   ],
   "source": [
    "descricao('dict')"
   ]
  },
  {
   "cell_type": "code",
   "execution_count": 31,
   "id": "c815e20d-39e2-4993-acfc-d56173f29a5e",
   "metadata": {},
   "outputs": [
    {
     "name": "stderr",
     "output_type": "stream",
     "text": [
      "100%|████████████████████████████████████████████████████████████████████████████████| 579/579 [00:58<00:00,  9.95it/s]\n"
     ]
    }
   ],
   "source": [
    "final = 579\n",
    "autores = []\n",
    "titulos = []\n",
    "avaliacoes = []\n",
    "total_avaliacoes = []\n",
    "paginas = []\n",
    "ano = []\n",
    "editora = []\n",
    "tipo = []\n",
    "\n",
    "for i in tqdm(range(final)):\n",
    "    arquivo = open(f'pagina_de_livro{i}.txt', 'r', encoding=\"utf-8\")\n",
    "    html = arquivo.read()\n",
    "    pagina = Selector(text=html)\n",
    "    autores.append(pagina.xpath('//span[@class=\"author notFaded\"]/a/text()').getall())\n",
    "    titulos.append(pagina.xpath('//span[@id=\"productTitle\"]/text()').get().strip())\n",
    "    avaliacoes.append(pagina.xpath('//a[@class=\"a-popover-trigger a-declarative\"]/span[@class=\"a-size-base a-color-base\"]/text()').get())\n",
    "    total_avaliacoes.append(pagina.xpath('//span[@id=\"acrCustomerReviewText\"]/text()').get())\n",
    "    paginas.append(descricao('Número de páginas'))\n",
    "    ano.append(descricao('Data da publicação'))\n",
    "    editora.append(descricao('Editora'))\n",
    "    tipo.append(pagina.xpath('//span[@id=\"productSubtitle\"]/text()').getall())\n"
   ]
  },
  {
   "cell_type": "markdown",
   "id": "3584bcff-9f2b-4c12-9077-e5da9e28af7b",
   "metadata": {},
   "source": [
    "# base Pre Processada:"
   ]
  },
  {
   "cell_type": "code",
   "execution_count": 35,
   "id": "967e9c8d-d726-4cf5-a300-10045691c048",
   "metadata": {},
   "outputs": [],
   "source": [
    "df1 = pd.DataFrame(titulos).rename(columns={0:'Título'})\n",
    "df2 = pd.DataFrame(autores).rename(columns={0:'Autor'})\n",
    "df3 = pd.DataFrame(avaliacoes).rename(columns={0:'Nota'})\n",
    "df4 = pd.DataFrame(total_avaliacoes).rename(columns={0:'Total de Avaliações'})\n",
    "df5 = pd.DataFrame(paginas).rename(columns={0:'Nº de Páginas'})\n",
    "df6 = pd.DataFrame(ano).rename(columns={0:'Data'})\n",
    "df7 = pd.DataFrame(editora).rename(columns={0:'Editora'})\n",
    "df8 = pd.DataFrame(tipo).rename(columns={0:\"Tipo\"})"
   ]
  },
  {
   "cell_type": "code",
   "execution_count": 36,
   "id": "e703d34a-cd7a-4b47-a2de-26cf7f8a4ad3",
   "metadata": {},
   "outputs": [],
   "source": [
    "data = pd.concat([df1, df2, df3, df4, df5, df6, df7, df8], axis=1)\n",
    "data.rename(columns={1:\"Co Autor\", 2:'Co-Autor..'}, inplace=True)\n",
    "\n"
   ]
  },
  {
   "cell_type": "code",
   "execution_count": 37,
   "id": "2a664ee8-518b-48ac-ab8d-4608249e7e62",
   "metadata": {},
   "outputs": [
    {
     "data": {
      "text/html": [
       "<div>\n",
       "<style scoped>\n",
       "    .dataframe tbody tr th:only-of-type {\n",
       "        vertical-align: middle;\n",
       "    }\n",
       "\n",
       "    .dataframe tbody tr th {\n",
       "        vertical-align: top;\n",
       "    }\n",
       "\n",
       "    .dataframe thead th {\n",
       "        text-align: right;\n",
       "    }\n",
       "</style>\n",
       "<table border=\"1\" class=\"dataframe\">\n",
       "  <thead>\n",
       "    <tr style=\"text-align: right;\">\n",
       "      <th></th>\n",
       "      <th>Título</th>\n",
       "      <th>Autor</th>\n",
       "      <th>Co Autor</th>\n",
       "      <th>Co-Autor..</th>\n",
       "      <th>Nota</th>\n",
       "      <th>Total de Avaliações</th>\n",
       "      <th>Nº de Páginas</th>\n",
       "      <th>Data</th>\n",
       "      <th>Editora</th>\n",
       "      <th>Tipo</th>\n",
       "    </tr>\n",
       "  </thead>\n",
       "  <tbody>\n",
       "    <tr>\n",
       "      <th>0</th>\n",
       "      <td>Introdução À Algoritmia e Programação com Python</td>\n",
       "      <td>Filipe Portela</td>\n",
       "      <td>Tiago C. Pereira</td>\n",
       "      <td>None</td>\n",
       "      <td>1,0</td>\n",
       "      <td>1 classificação</td>\n",
       "      <td>384 páginas</td>\n",
       "      <td>21 novembro 2023</td>\n",
       "      <td>Fca</td>\n",
       "      <td>Capa comum – 21 novembro 2023</td>\n",
       "    </tr>\n",
       "    <tr>\n",
       "      <th>1</th>\n",
       "      <td>Python: guia básico para iniciantes</td>\n",
       "      <td>Francisco Jonas</td>\n",
       "      <td>None</td>\n",
       "      <td>None</td>\n",
       "      <td>5,0</td>\n",
       "      <td>1 classificação</td>\n",
       "      <td>62 páginas</td>\n",
       "      <td>3 dezembro 2023</td>\n",
       "      <td>vazio</td>\n",
       "      <td>eBook Kindle</td>\n",
       "    </tr>\n",
       "    <tr>\n",
       "      <th>2</th>\n",
       "      <td>Código limpo: habilidades práticas do Agile so...</td>\n",
       "      <td>Robert C. Martin</td>\n",
       "      <td>None</td>\n",
       "      <td>None</td>\n",
       "      <td>4,9</td>\n",
       "      <td>6.501 avaliações de clientes</td>\n",
       "      <td>425 páginas</td>\n",
       "      <td>8 setembro 2009</td>\n",
       "      <td>Alta Books</td>\n",
       "      <td>Capa comum – Edição padrão, 8 setembro 2009</td>\n",
       "    </tr>\n",
       "    <tr>\n",
       "      <th>3</th>\n",
       "      <td>Python descomplicado com o Chatgpt.</td>\n",
       "      <td>Clayton Costa</td>\n",
       "      <td>None</td>\n",
       "      <td>None</td>\n",
       "      <td>4,4</td>\n",
       "      <td>4 avaliações de clientes</td>\n",
       "      <td>27 páginas</td>\n",
       "      <td>15 março 2024</td>\n",
       "      <td>vazio</td>\n",
       "      <td>eBook Kindle</td>\n",
       "    </tr>\n",
       "    <tr>\n",
       "      <th>4</th>\n",
       "      <td>A próxima onda: Inteligência artificial, poder...</td>\n",
       "      <td>Mustafa Suleyman</td>\n",
       "      <td>Michael Bhaskar</td>\n",
       "      <td>None</td>\n",
       "      <td>4,6</td>\n",
       "      <td>134 avaliações de clientes</td>\n",
       "      <td>420 páginas</td>\n",
       "      <td>16 outubro 2023</td>\n",
       "      <td>Record</td>\n",
       "      <td>Capa comum – 16 outubro 2023</td>\n",
       "    </tr>\n",
       "    <tr>\n",
       "      <th>...</th>\n",
       "      <td>...</td>\n",
       "      <td>...</td>\n",
       "      <td>...</td>\n",
       "      <td>...</td>\n",
       "      <td>...</td>\n",
       "      <td>...</td>\n",
       "      <td>...</td>\n",
       "      <td>...</td>\n",
       "      <td>...</td>\n",
       "      <td>...</td>\n",
       "    </tr>\n",
       "    <tr>\n",
       "      <th>574</th>\n",
       "      <td>Linguagens de programação orientadas a objetos...</td>\n",
       "      <td>Fonte: Wikipedia</td>\n",
       "      <td>None</td>\n",
       "      <td>None</td>\n",
       "      <td>None</td>\n",
       "      <td>None</td>\n",
       "      <td>46 páginas</td>\n",
       "      <td>26 junho 2011</td>\n",
       "      <td>Books LLC, Wiki Series</td>\n",
       "      <td>Capa comum – 26 junho 2011</td>\n",
       "    </tr>\n",
       "    <tr>\n",
       "      <th>575</th>\n",
       "      <td>Software por licença: Licenças de Software, So...</td>\n",
       "      <td>Fonte: Wikipedia</td>\n",
       "      <td>None</td>\n",
       "      <td>None</td>\n",
       "      <td>None</td>\n",
       "      <td>None</td>\n",
       "      <td>226 páginas</td>\n",
       "      <td>30 junho 2011</td>\n",
       "      <td>Books LLC, Wiki Series</td>\n",
       "      <td>Capa comum – 30 junho 2011</td>\n",
       "    </tr>\n",
       "    <tr>\n",
       "      <th>576</th>\n",
       "      <td>Humoristas do Reino Unido: Humoristas da Ingla...</td>\n",
       "      <td>Fonte: Wikipedia</td>\n",
       "      <td>None</td>\n",
       "      <td>None</td>\n",
       "      <td>None</td>\n",
       "      <td>None</td>\n",
       "      <td>30 páginas</td>\n",
       "      <td>26 junho 2011</td>\n",
       "      <td>Books LLC, Wiki Series</td>\n",
       "      <td>Capa comum – 26 junho 2011</td>\n",
       "    </tr>\n",
       "    <tr>\n",
       "      <th>577</th>\n",
       "      <td>Linguagens de script: Python, Euphoria, JavaSc...</td>\n",
       "      <td>Fonte: Wikipedia</td>\n",
       "      <td>None</td>\n",
       "      <td>None</td>\n",
       "      <td>1,0</td>\n",
       "      <td>1 classificação</td>\n",
       "      <td>50 páginas</td>\n",
       "      <td>25 junho 2011</td>\n",
       "      <td>Books LLC, Wiki Series</td>\n",
       "      <td>Capa comum – 25 junho 2011</td>\n",
       "    </tr>\n",
       "    <tr>\n",
       "      <th>578</th>\n",
       "      <td>Humor: Desciclopédia, Piada, Monty Python, Eng...</td>\n",
       "      <td>Fonte: Wikipedia</td>\n",
       "      <td>None</td>\n",
       "      <td>None</td>\n",
       "      <td>None</td>\n",
       "      <td>None</td>\n",
       "      <td>30 páginas</td>\n",
       "      <td>27 junho 2011</td>\n",
       "      <td>Books LLC, Wiki Series</td>\n",
       "      <td>Capa comum – 27 junho 2011</td>\n",
       "    </tr>\n",
       "  </tbody>\n",
       "</table>\n",
       "<p>579 rows × 10 columns</p>\n",
       "</div>"
      ],
      "text/plain": [
       "                                                Título             Autor  \\\n",
       "0     Introdução À Algoritmia e Programação com Python    Filipe Portela   \n",
       "1                  Python: guia básico para iniciantes   Francisco Jonas   \n",
       "2    Código limpo: habilidades práticas do Agile so...  Robert C. Martin   \n",
       "3                  Python descomplicado com o Chatgpt.     Clayton Costa   \n",
       "4    A próxima onda: Inteligência artificial, poder...  Mustafa Suleyman   \n",
       "..                                                 ...               ...   \n",
       "574  Linguagens de programação orientadas a objetos...  Fonte: Wikipedia   \n",
       "575  Software por licença: Licenças de Software, So...  Fonte: Wikipedia   \n",
       "576  Humoristas do Reino Unido: Humoristas da Ingla...  Fonte: Wikipedia   \n",
       "577  Linguagens de script: Python, Euphoria, JavaSc...  Fonte: Wikipedia   \n",
       "578  Humor: Desciclopédia, Piada, Monty Python, Eng...  Fonte: Wikipedia   \n",
       "\n",
       "             Co Autor Co-Autor..   Nota           Total de Avaliações  \\\n",
       "0    Tiago C. Pereira       None   1,0                1 classificação   \n",
       "1                None       None   5,0                1 classificação   \n",
       "2                None       None   4,9   6.501 avaliações de clientes   \n",
       "3                None       None   4,4       4 avaliações de clientes   \n",
       "4     Michael Bhaskar       None   4,6     134 avaliações de clientes   \n",
       "..                ...        ...    ...                           ...   \n",
       "574              None       None   None                          None   \n",
       "575              None       None   None                          None   \n",
       "576              None       None   None                          None   \n",
       "577              None       None   1,0                1 classificação   \n",
       "578              None       None   None                          None   \n",
       "\n",
       "    Nº de Páginas              Data                 Editora  \\\n",
       "0     384 páginas  21 novembro 2023                     Fca   \n",
       "1      62 páginas   3 dezembro 2023                   vazio   \n",
       "2     425 páginas   8 setembro 2009              Alta Books   \n",
       "3      27 páginas     15 março 2024                   vazio   \n",
       "4     420 páginas   16 outubro 2023                  Record   \n",
       "..            ...               ...                     ...   \n",
       "574    46 páginas     26 junho 2011  Books LLC, Wiki Series   \n",
       "575   226 páginas     30 junho 2011  Books LLC, Wiki Series   \n",
       "576    30 páginas     26 junho 2011  Books LLC, Wiki Series   \n",
       "577    50 páginas     25 junho 2011  Books LLC, Wiki Series   \n",
       "578    30 páginas     27 junho 2011  Books LLC, Wiki Series   \n",
       "\n",
       "                                               Tipo  \n",
       "0                    Capa comum – 21 novembro 2023   \n",
       "1                                     eBook Kindle   \n",
       "2      Capa comum – Edição padrão, 8 setembro 2009   \n",
       "3                                     eBook Kindle   \n",
       "4                     Capa comum – 16 outubro 2023   \n",
       "..                                              ...  \n",
       "574                     Capa comum – 26 junho 2011   \n",
       "575                     Capa comum – 30 junho 2011   \n",
       "576                     Capa comum – 26 junho 2011   \n",
       "577                     Capa comum – 25 junho 2011   \n",
       "578                     Capa comum – 27 junho 2011   \n",
       "\n",
       "[579 rows x 10 columns]"
      ]
     },
     "execution_count": 37,
     "metadata": {},
     "output_type": "execute_result"
    }
   ],
   "source": [
    "data"
   ]
  },
  {
   "cell_type": "code",
   "execution_count": 38,
   "id": "b19ecaee-0b86-499d-bcaa-a51ea179a229",
   "metadata": {},
   "outputs": [],
   "source": [
    "df8 = pd.DataFrame(tipo).rename(columns={0:\"Tipo\"})\n"
   ]
  }
 ],
 "metadata": {
  "kernelspec": {
   "display_name": "Python 3 (ipykernel)",
   "language": "python",
   "name": "python3"
  },
  "language_info": {
   "codemirror_mode": {
    "name": "ipython",
    "version": 3
   },
   "file_extension": ".py",
   "mimetype": "text/x-python",
   "name": "python",
   "nbconvert_exporter": "python",
   "pygments_lexer": "ipython3",
   "version": "3.11.8"
  }
 },
 "nbformat": 4,
 "nbformat_minor": 5
}
